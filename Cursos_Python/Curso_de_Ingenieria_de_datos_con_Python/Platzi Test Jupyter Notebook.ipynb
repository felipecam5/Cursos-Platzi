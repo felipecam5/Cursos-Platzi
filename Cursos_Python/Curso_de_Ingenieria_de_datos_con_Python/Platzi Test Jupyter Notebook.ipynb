{
 "cells": [
  {
   "cell_type": "code",
   "execution_count": 7,
   "id": "d4726732",
   "metadata": {},
   "outputs": [],
   "source": [
    "import matplotlib\n",
    "import random\n"
   ]
  },
  {
   "cell_type": "code",
   "execution_count": 2,
   "id": "344b8d07",
   "metadata": {},
   "outputs": [
    {
     "name": "stdout",
     "output_type": "stream",
     "text": [
      "Ingrese el tamaño de la lista: 10\n"
     ]
    }
   ],
   "source": [
    "tamano_de_lista = int(input(\"Ingrese el tamaño de la lista: \"))\n",
    "lista_prueba = [random.randint(0,100) for i in range(tamano_de_lista)]"
   ]
  },
  {
   "cell_type": "code",
   "execution_count": 3,
   "id": "46adfbbf",
   "metadata": {},
   "outputs": [
    {
     "name": "stdout",
     "output_type": "stream",
     "text": [
      "[7, 4, 25, 47, 53, 75, 43, 60, 64, 50]\n"
     ]
    }
   ],
   "source": [
    "print(lista_prueba)"
   ]
  },
  {
   "cell_type": "code",
   "execution_count": 4,
   "id": "c6e96262",
   "metadata": {},
   "outputs": [
    {
     "name": "stdout",
     "output_type": "stream",
     "text": [
      "Los numeros pares son los siguientes: [4, 60, 64, 50]\n"
     ]
    }
   ],
   "source": [
    "pares = []\n",
    "for i in lista_prueba:\n",
    "    if i % 2 == 0:\n",
    "        pares.append(i)\n",
    "print(f'Los numeros pares son los siguientes: {pares}')"
   ]
  },
  {
   "cell_type": "code",
   "execution_count": 5,
   "id": "f623ff89",
   "metadata": {},
   "outputs": [],
   "source": [
    "from bokeh.plotting import figure, output_file, show\n"
   ]
  },
  {
   "cell_type": "code",
   "execution_count": 6,
   "id": "9cecad78",
   "metadata": {},
   "outputs": [
    {
     "name": "stdout",
     "output_type": "stream",
     "text": [
      "Cuantos valores quieres graficar5\n",
      "Valor y para 01\n",
      "Valor y para 12\n",
      "Valor y para 23\n",
      "Valor y para 34\n",
      "Valor y para 45\n"
     ]
    }
   ],
   "source": [
    "if __name__ == \"__main__\":\n",
    "    output_file(\"Graficado_simple.html\")\n",
    "    fig = figure()\n",
    "\n",
    "    total_vals = int(input(\"Cuantos valores quieres graficar\"))\n",
    "    x_values = list(range(total_vals))\n",
    "    y_values = []\n",
    "\n",
    "    for i in x_values:\n",
    "        val = int(input(f'Valor y para {i}'))\n",
    "        y_values.append(val)\n",
    "\n",
    "    fig.line(x_values, y_values, line_width = 2)\n",
    "    show(fig)"
   ]
  },
  {
   "cell_type": "code",
   "execution_count": null,
   "id": "eae9c282",
   "metadata": {},
   "outputs": [],
   "source": []
  }
 ],
 "metadata": {
  "kernelspec": {
   "display_name": "Python 3 (ipykernel)",
   "language": "python",
   "name": "python3"
  },
  "language_info": {
   "codemirror_mode": {
    "name": "ipython",
    "version": 3
   },
   "file_extension": ".py",
   "mimetype": "text/x-python",
   "name": "python",
   "nbconvert_exporter": "python",
   "pygments_lexer": "ipython3",
   "version": "3.9.12"
  }
 },
 "nbformat": 4,
 "nbformat_minor": 5
}
