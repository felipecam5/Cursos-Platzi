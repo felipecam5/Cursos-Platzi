{
 "cells": [
  {
   "cell_type": "markdown",
   "id": "fb488069",
   "metadata": {},
   "source": [
    "## Read Data"
   ]
  },
  {
   "cell_type": "code",
   "execution_count": 11,
   "id": "da6273a4",
   "metadata": {},
   "outputs": [],
   "source": [
    "import pandas as pd\n",
    "import numpy as np\n",
    "\n",
    "el_universal = pd.read_csv(\"24_web_scrapper/elpais_2020_04_05_articles.csv\") #La forma mas facil de leet .CSV"
   ]
  },
  {
   "cell_type": "code",
   "execution_count": 41,
   "id": "ba9b514c",
   "metadata": {},
   "outputs": [
    {
     "data": {
      "text/html": [
       "<div>\n",
       "<style scoped>\n",
       "    .dataframe tbody tr th:only-of-type {\n",
       "        vertical-align: middle;\n",
       "    }\n",
       "\n",
       "    .dataframe tbody tr th {\n",
       "        vertical-align: top;\n",
       "    }\n",
       "\n",
       "    .dataframe thead th {\n",
       "        text-align: right;\n",
       "    }\n",
       "</style>\n",
       "<table border=\"1\" class=\"dataframe\">\n",
       "  <thead>\n",
       "    <tr style=\"text-align: right;\">\n",
       "      <th></th>\n",
       "      <th>body</th>\n",
       "      <th>title</th>\n",
       "      <th>url</th>\n",
       "    </tr>\n",
       "  </thead>\n",
       "  <tbody>\n",
       "    <tr>\n",
       "      <th>0</th>\n",
       "      <td>Maravillas Delgado.Incluso para los más ardien...</td>\n",
       "      <td>El fracaso épico de la Administración Trump</td>\n",
       "      <td>https://www.elpais.com/economia/negocio/2020-0...</td>\n",
       "    </tr>\n",
       "    <tr>\n",
       "      <th>1</th>\n",
       "      <td>El miércoles pasado, unos vecinos de Vitoria s...</td>\n",
       "      <td>La línea invisible de ETA</td>\n",
       "      <td>https://www.elpais.com/television/2020-04-03/l...</td>\n",
       "    </tr>\n",
       "    <tr>\n",
       "      <th>2</th>\n",
       "      <td>Ai Weiwei es uno de los disidentes chinos que ...</td>\n",
       "      <td>Ai Weiwei:  “El capitalismo ha llegado a su fin”</td>\n",
       "      <td>https://www.elpais.com/ideas/2020-04-04/ai-wei...</td>\n",
       "    </tr>\n",
       "    <tr>\n",
       "      <th>3</th>\n",
       "      <td>América concentra el 40% de la pandemia mundia...</td>\n",
       "      <td>Coronavirus en América: últimas noticias del C...</td>\n",
       "      <td>https://www.elpais.com/america/sociedad/2020-0...</td>\n",
       "    </tr>\n",
       "    <tr>\n",
       "      <th>4</th>\n",
       "      <td>De izquierda a derecha, Manuel Barragán, Sara ...</td>\n",
       "      <td>Cuando se pierde la vida por curar a los demás</td>\n",
       "      <td>https://www.elpais.com/sociedad/2020-04-05/cua...</td>\n",
       "    </tr>\n",
       "    <tr>\n",
       "      <th>...</th>\n",
       "      <td>...</td>\n",
       "      <td>...</td>\n",
       "      <td>...</td>\n",
       "    </tr>\n",
       "    <tr>\n",
       "      <th>51</th>\n",
       "      <td>\\nEl número de muertos con coronavirus en Fran...</td>\n",
       "      <td>Últimas noticias del coronavirus, en directo |...</td>\n",
       "      <td>https://www.elpais.com/sociedad/2020-04-05/ult...</td>\n",
       "    </tr>\n",
       "    <tr>\n",
       "      <th>52</th>\n",
       "      <td>A estas alturas anda en un obligado receso de ...</td>\n",
       "      <td>José Luis Perales, alfarería, vino y una admir...</td>\n",
       "      <td>https://www.elpais.com/gente/2020-04-04/jose-l...</td>\n",
       "    </tr>\n",
       "    <tr>\n",
       "      <th>53</th>\n",
       "      <td>A las 7.30, con el termómetro a dos grados y l...</td>\n",
       "      <td>Un Ejército para exterminar el coronavirus</td>\n",
       "      <td>https://www.elpais.com/espana/2020-04-04/un-ej...</td>\n",
       "    </tr>\n",
       "    <tr>\n",
       "      <th>54</th>\n",
       "      <td>El presidente de Estados Unidos, Donald Trump,...</td>\n",
       "      <td>Trump despide a otra figura clave en su ‘impea...</td>\n",
       "      <td>https://www.elpais.com/internacional/2020-04-0...</td>\n",
       "    </tr>\n",
       "    <tr>\n",
       "      <th>55</th>\n",
       "      <td>Isabel II de Inglaterra acude a la misa en hon...</td>\n",
       "      <td>Isabel II reclama altura histórica a los britá...</td>\n",
       "      <td>https://www.elpais.com/internacional/2020-04-0...</td>\n",
       "    </tr>\n",
       "  </tbody>\n",
       "</table>\n",
       "<p>56 rows × 3 columns</p>\n",
       "</div>"
      ],
      "text/plain": [
       "                                                 body  \\\n",
       "0   Maravillas Delgado.Incluso para los más ardien...   \n",
       "1   El miércoles pasado, unos vecinos de Vitoria s...   \n",
       "2   Ai Weiwei es uno de los disidentes chinos que ...   \n",
       "3   América concentra el 40% de la pandemia mundia...   \n",
       "4   De izquierda a derecha, Manuel Barragán, Sara ...   \n",
       "..                                                ...   \n",
       "51  \\nEl número de muertos con coronavirus en Fran...   \n",
       "52  A estas alturas anda en un obligado receso de ...   \n",
       "53  A las 7.30, con el termómetro a dos grados y l...   \n",
       "54  El presidente de Estados Unidos, Donald Trump,...   \n",
       "55  Isabel II de Inglaterra acude a la misa en hon...   \n",
       "\n",
       "                                                title  \\\n",
       "0         El fracaso épico de la Administración Trump   \n",
       "1                           La línea invisible de ETA   \n",
       "2    Ai Weiwei:  “El capitalismo ha llegado a su fin”   \n",
       "3   Coronavirus en América: últimas noticias del C...   \n",
       "4      Cuando se pierde la vida por curar a los demás   \n",
       "..                                                ...   \n",
       "51  Últimas noticias del coronavirus, en directo |...   \n",
       "52  José Luis Perales, alfarería, vino y una admir...   \n",
       "53         Un Ejército para exterminar el coronavirus   \n",
       "54  Trump despide a otra figura clave en su ‘impea...   \n",
       "55  Isabel II reclama altura histórica a los britá...   \n",
       "\n",
       "                                                  url  \n",
       "0   https://www.elpais.com/economia/negocio/2020-0...  \n",
       "1   https://www.elpais.com/television/2020-04-03/l...  \n",
       "2   https://www.elpais.com/ideas/2020-04-04/ai-wei...  \n",
       "3   https://www.elpais.com/america/sociedad/2020-0...  \n",
       "4   https://www.elpais.com/sociedad/2020-04-05/cua...  \n",
       "..                                                ...  \n",
       "51  https://www.elpais.com/sociedad/2020-04-05/ult...  \n",
       "52  https://www.elpais.com/gente/2020-04-04/jose-l...  \n",
       "53  https://www.elpais.com/espana/2020-04-04/un-ej...  \n",
       "54  https://www.elpais.com/internacional/2020-04-0...  \n",
       "55  https://www.elpais.com/internacional/2020-04-0...  \n",
       "\n",
       "[56 rows x 3 columns]"
      ]
     },
     "execution_count": 41,
     "metadata": {},
     "output_type": "execute_result"
    }
   ],
   "source": [
    "type(el_universal)\n",
    "\n",
    "pd.options.display.max_rows = 10 #Maximas rows a mostrar\n",
    "\n",
    "# el_universal.loc[0:10, :] # Forma de retornar solo algunos valores.\n",
    "# el_universal.head() # Retorna los primeros 5 valores.\n",
    "# el_universal.tail() # Retorna los ultimos 5 valores.\n",
    "el_universal\n"
   ]
  },
  {
   "cell_type": "markdown",
   "id": "890e57a0",
   "metadata": {},
   "source": [
    "## Index and Selection"
   ]
  },
  {
   "cell_type": "markdown",
   "id": "b7a6fe5f",
   "metadata": {},
   "source": [
    "### Dictionaly Like"
   ]
  },
  {
   "cell_type": "code",
   "execution_count": 48,
   "id": "638dd27d",
   "metadata": {},
   "outputs": [
    {
     "data": {
      "text/plain": [
       "0           El fracaso épico de la Administración Trump\n",
       "1                             La línea invisible de ETA\n",
       "2      Ai Weiwei:  “El capitalismo ha llegado a su fin”\n",
       "3     Coronavirus en América: últimas noticias del C...\n",
       "4        Cuando se pierde la vida por curar a los demás\n",
       "                            ...                        \n",
       "51    Últimas noticias del coronavirus, en directo |...\n",
       "52    José Luis Perales, alfarería, vino y una admir...\n",
       "53           Un Ejército para exterminar el coronavirus\n",
       "54    Trump despide a otra figura clave en su ‘impea...\n",
       "55    Isabel II reclama altura histórica a los britá...\n",
       "Name: title, Length: 56, dtype: object"
      ]
     },
     "execution_count": 48,
     "metadata": {},
     "output_type": "execute_result"
    }
   ],
   "source": [
    "el_universal[\"title\"]"
   ]
  },
  {
   "cell_type": "code",
   "execution_count": 49,
   "id": "9e7dabf7",
   "metadata": {},
   "outputs": [
    {
     "data": {
      "text/html": [
       "<div>\n",
       "<style scoped>\n",
       "    .dataframe tbody tr th:only-of-type {\n",
       "        vertical-align: middle;\n",
       "    }\n",
       "\n",
       "    .dataframe tbody tr th {\n",
       "        vertical-align: top;\n",
       "    }\n",
       "\n",
       "    .dataframe thead th {\n",
       "        text-align: right;\n",
       "    }\n",
       "</style>\n",
       "<table border=\"1\" class=\"dataframe\">\n",
       "  <thead>\n",
       "    <tr style=\"text-align: right;\">\n",
       "      <th></th>\n",
       "      <th>title</th>\n",
       "      <th>body</th>\n",
       "    </tr>\n",
       "  </thead>\n",
       "  <tbody>\n",
       "    <tr>\n",
       "      <th>0</th>\n",
       "      <td>El fracaso épico de la Administración Trump</td>\n",
       "      <td>Maravillas Delgado.Incluso para los más ardien...</td>\n",
       "    </tr>\n",
       "    <tr>\n",
       "      <th>1</th>\n",
       "      <td>La línea invisible de ETA</td>\n",
       "      <td>El miércoles pasado, unos vecinos de Vitoria s...</td>\n",
       "    </tr>\n",
       "    <tr>\n",
       "      <th>2</th>\n",
       "      <td>Ai Weiwei:  “El capitalismo ha llegado a su fin”</td>\n",
       "      <td>Ai Weiwei es uno de los disidentes chinos que ...</td>\n",
       "    </tr>\n",
       "    <tr>\n",
       "      <th>3</th>\n",
       "      <td>Coronavirus en América: últimas noticias del C...</td>\n",
       "      <td>América concentra el 40% de la pandemia mundia...</td>\n",
       "    </tr>\n",
       "    <tr>\n",
       "      <th>4</th>\n",
       "      <td>Cuando se pierde la vida por curar a los demás</td>\n",
       "      <td>De izquierda a derecha, Manuel Barragán, Sara ...</td>\n",
       "    </tr>\n",
       "    <tr>\n",
       "      <th>...</th>\n",
       "      <td>...</td>\n",
       "      <td>...</td>\n",
       "    </tr>\n",
       "    <tr>\n",
       "      <th>51</th>\n",
       "      <td>Últimas noticias del coronavirus, en directo |...</td>\n",
       "      <td>\\nEl número de muertos con coronavirus en Fran...</td>\n",
       "    </tr>\n",
       "    <tr>\n",
       "      <th>52</th>\n",
       "      <td>José Luis Perales, alfarería, vino y una admir...</td>\n",
       "      <td>A estas alturas anda en un obligado receso de ...</td>\n",
       "    </tr>\n",
       "    <tr>\n",
       "      <th>53</th>\n",
       "      <td>Un Ejército para exterminar el coronavirus</td>\n",
       "      <td>A las 7.30, con el termómetro a dos grados y l...</td>\n",
       "    </tr>\n",
       "    <tr>\n",
       "      <th>54</th>\n",
       "      <td>Trump despide a otra figura clave en su ‘impea...</td>\n",
       "      <td>El presidente de Estados Unidos, Donald Trump,...</td>\n",
       "    </tr>\n",
       "    <tr>\n",
       "      <th>55</th>\n",
       "      <td>Isabel II reclama altura histórica a los britá...</td>\n",
       "      <td>Isabel II de Inglaterra acude a la misa en hon...</td>\n",
       "    </tr>\n",
       "  </tbody>\n",
       "</table>\n",
       "<p>56 rows × 2 columns</p>\n",
       "</div>"
      ],
      "text/plain": [
       "                                                title  \\\n",
       "0         El fracaso épico de la Administración Trump   \n",
       "1                           La línea invisible de ETA   \n",
       "2    Ai Weiwei:  “El capitalismo ha llegado a su fin”   \n",
       "3   Coronavirus en América: últimas noticias del C...   \n",
       "4      Cuando se pierde la vida por curar a los demás   \n",
       "..                                                ...   \n",
       "51  Últimas noticias del coronavirus, en directo |...   \n",
       "52  José Luis Perales, alfarería, vino y una admir...   \n",
       "53         Un Ejército para exterminar el coronavirus   \n",
       "54  Trump despide a otra figura clave en su ‘impea...   \n",
       "55  Isabel II reclama altura histórica a los britá...   \n",
       "\n",
       "                                                 body  \n",
       "0   Maravillas Delgado.Incluso para los más ardien...  \n",
       "1   El miércoles pasado, unos vecinos de Vitoria s...  \n",
       "2   Ai Weiwei es uno de los disidentes chinos que ...  \n",
       "3   América concentra el 40% de la pandemia mundia...  \n",
       "4   De izquierda a derecha, Manuel Barragán, Sara ...  \n",
       "..                                                ...  \n",
       "51  \\nEl número de muertos con coronavirus en Fran...  \n",
       "52  A estas alturas anda en un obligado receso de ...  \n",
       "53  A las 7.30, con el termómetro a dos grados y l...  \n",
       "54  El presidente de Estados Unidos, Donald Trump,...  \n",
       "55  Isabel II de Inglaterra acude a la misa en hon...  \n",
       "\n",
       "[56 rows x 2 columns]"
      ]
     },
     "execution_count": 49,
     "metadata": {},
     "output_type": "execute_result"
    }
   ],
   "source": [
    "el_universal[[\"title\", \"body\"]]"
   ]
  },
  {
   "cell_type": "markdown",
   "id": "1cff9b4b",
   "metadata": {},
   "source": [
    "### Numpy Like"
   ]
  },
  {
   "cell_type": "code",
   "execution_count": 50,
   "id": "a519db8a",
   "metadata": {},
   "outputs": [
    {
     "data": {
      "text/plain": [
       "body     Maya Moore ganó su segundo Mundial de Balonces...\n",
       "title             Maya Moore, una canasta por la justicia \n",
       "url      https://www.elpais.com/deportes/2020-04-05/may...\n",
       "Name: 5, dtype: object"
      ]
     },
     "execution_count": 50,
     "metadata": {},
     "output_type": "execute_result"
    }
   ],
   "source": [
    "el_universal.iloc[5]"
   ]
  },
  {
   "cell_type": "code",
   "execution_count": 54,
   "id": "8bebf514",
   "metadata": {},
   "outputs": [
    {
     "data": {
      "text/html": [
       "<div>\n",
       "<style scoped>\n",
       "    .dataframe tbody tr th:only-of-type {\n",
       "        vertical-align: middle;\n",
       "    }\n",
       "\n",
       "    .dataframe tbody tr th {\n",
       "        vertical-align: top;\n",
       "    }\n",
       "\n",
       "    .dataframe thead th {\n",
       "        text-align: right;\n",
       "    }\n",
       "</style>\n",
       "<table border=\"1\" class=\"dataframe\">\n",
       "  <thead>\n",
       "    <tr style=\"text-align: right;\">\n",
       "      <th></th>\n",
       "      <th>body</th>\n",
       "      <th>title</th>\n",
       "      <th>url</th>\n",
       "    </tr>\n",
       "  </thead>\n",
       "  <tbody>\n",
       "    <tr>\n",
       "      <th>10</th>\n",
       "      <td>La señora Wang carga dos enormes bolsas de las...</td>\n",
       "      <td>Wuhan: cuenta atrás para terminar 11 semanas d...</td>\n",
       "      <td>https://www.elpais.com/sociedad/2020-04-03/wuh...</td>\n",
       "    </tr>\n",
       "    <tr>\n",
       "      <th>11</th>\n",
       "      <td>Un vecino de la favela de  Paraisópolis en São...</td>\n",
       "      <td>Las favelas de Brasil esperan el impacto del v...</td>\n",
       "      <td>https://www.elpais.com/sociedad/2020-04-04/las...</td>\n",
       "    </tr>\n",
       "    <tr>\n",
       "      <th>12</th>\n",
       "      <td>La explosión de una mina de carbón en Cundinam...</td>\n",
       "      <td>Una explosión en una mina de carbón deja al me...</td>\n",
       "      <td>https://www.elpais.com/internacional/2020-04-0...</td>\n",
       "    </tr>\n",
       "    <tr>\n",
       "      <th>13</th>\n",
       "      <td>La posición de la alcaldesa de Bogotá, Claudia...</td>\n",
       "      <td>La alcaldesa de Bogotá agita el debate sobre l...</td>\n",
       "      <td>https://www.elpais.com/internacional/2020-04-0...</td>\n",
       "    </tr>\n",
       "    <tr>\n",
       "      <th>14</th>\n",
       "      <td>Los datos de la epidemia de Covid-19 de los do...</td>\n",
       "      <td>Acusada caída de las muertes por coronavirus, ...</td>\n",
       "      <td>https://www.elpais.com/sociedad/2020-04-05/acu...</td>\n",
       "    </tr>\n",
       "  </tbody>\n",
       "</table>\n",
       "</div>"
      ],
      "text/plain": [
       "                                                 body  \\\n",
       "10  La señora Wang carga dos enormes bolsas de las...   \n",
       "11  Un vecino de la favela de  Paraisópolis en São...   \n",
       "12  La explosión de una mina de carbón en Cundinam...   \n",
       "13  La posición de la alcaldesa de Bogotá, Claudia...   \n",
       "14  Los datos de la epidemia de Covid-19 de los do...   \n",
       "\n",
       "                                                title  \\\n",
       "10  Wuhan: cuenta atrás para terminar 11 semanas d...   \n",
       "11  Las favelas de Brasil esperan el impacto del v...   \n",
       "12  Una explosión en una mina de carbón deja al me...   \n",
       "13  La alcaldesa de Bogotá agita el debate sobre l...   \n",
       "14  Acusada caída de las muertes por coronavirus, ...   \n",
       "\n",
       "                                                  url  \n",
       "10  https://www.elpais.com/sociedad/2020-04-03/wuh...  \n",
       "11  https://www.elpais.com/sociedad/2020-04-04/las...  \n",
       "12  https://www.elpais.com/internacional/2020-04-0...  \n",
       "13  https://www.elpais.com/internacional/2020-04-0...  \n",
       "14  https://www.elpais.com/sociedad/2020-04-05/acu...  "
      ]
     },
     "execution_count": 54,
     "metadata": {},
     "output_type": "execute_result"
    }
   ],
   "source": [
    "el_universal.iloc[10:15]"
   ]
  },
  {
   "cell_type": "code",
   "execution_count": 64,
   "id": "d4836896",
   "metadata": {},
   "outputs": [
    {
     "data": {
      "text/plain": [
       "10    Wuhan: cuenta atrás para terminar 11 semanas d...\n",
       "11    Las favelas de Brasil esperan el impacto del v...\n",
       "12    Una explosión en una mina de carbón deja al me...\n",
       "13    La alcaldesa de Bogotá agita el debate sobre l...\n",
       "14    Acusada caída de las muertes por coronavirus, ...\n",
       "Name: title, dtype: object"
      ]
     },
     "execution_count": 64,
     "metadata": {},
     "output_type": "execute_result"
    }
   ],
   "source": [
    "el_universal.iloc[10:15][\"title\"]"
   ]
  },
  {
   "cell_type": "code",
   "execution_count": 62,
   "id": "0be8b2f0",
   "metadata": {},
   "outputs": [
    {
     "data": {
      "text/plain": [
       "0    Maravillas Delgado.Incluso para los más ardien...\n",
       "1    El miércoles pasado, unos vecinos de Vitoria s...\n",
       "2    Ai Weiwei es uno de los disidentes chinos que ...\n",
       "3    América concentra el 40% de la pandemia mundia...\n",
       "4    De izquierda a derecha, Manuel Barragán, Sara ...\n",
       "Name: body, dtype: object"
      ]
     },
     "execution_count": 62,
     "metadata": {},
     "output_type": "execute_result"
    }
   ],
   "source": [
    "el_universal.iloc[:5,0]"
   ]
  },
  {
   "cell_type": "markdown",
   "id": "f455aa8c",
   "metadata": {},
   "source": [
    "### Label Based"
   ]
  },
  {
   "cell_type": "code",
   "execution_count": 66,
   "id": "927e98b9",
   "metadata": {},
   "outputs": [
    {
     "data": {
      "text/html": [
       "<div>\n",
       "<style scoped>\n",
       "    .dataframe tbody tr th:only-of-type {\n",
       "        vertical-align: middle;\n",
       "    }\n",
       "\n",
       "    .dataframe tbody tr th {\n",
       "        vertical-align: top;\n",
       "    }\n",
       "\n",
       "    .dataframe thead th {\n",
       "        text-align: right;\n",
       "    }\n",
       "</style>\n",
       "<table border=\"1\" class=\"dataframe\">\n",
       "  <thead>\n",
       "    <tr style=\"text-align: right;\">\n",
       "      <th></th>\n",
       "      <th>body</th>\n",
       "      <th>title</th>\n",
       "    </tr>\n",
       "  </thead>\n",
       "  <tbody>\n",
       "    <tr>\n",
       "      <th>0</th>\n",
       "      <td>Maravillas Delgado.Incluso para los más ardien...</td>\n",
       "      <td>El fracaso épico de la Administración Trump</td>\n",
       "    </tr>\n",
       "    <tr>\n",
       "      <th>1</th>\n",
       "      <td>El miércoles pasado, unos vecinos de Vitoria s...</td>\n",
       "      <td>La línea invisible de ETA</td>\n",
       "    </tr>\n",
       "    <tr>\n",
       "      <th>2</th>\n",
       "      <td>Ai Weiwei es uno de los disidentes chinos que ...</td>\n",
       "      <td>Ai Weiwei:  “El capitalismo ha llegado a su fin”</td>\n",
       "    </tr>\n",
       "    <tr>\n",
       "      <th>3</th>\n",
       "      <td>América concentra el 40% de la pandemia mundia...</td>\n",
       "      <td>Coronavirus en América: últimas noticias del C...</td>\n",
       "    </tr>\n",
       "    <tr>\n",
       "      <th>4</th>\n",
       "      <td>De izquierda a derecha, Manuel Barragán, Sara ...</td>\n",
       "      <td>Cuando se pierde la vida por curar a los demás</td>\n",
       "    </tr>\n",
       "    <tr>\n",
       "      <th>...</th>\n",
       "      <td>...</td>\n",
       "      <td>...</td>\n",
       "    </tr>\n",
       "    <tr>\n",
       "      <th>51</th>\n",
       "      <td>\\nEl número de muertos con coronavirus en Fran...</td>\n",
       "      <td>Últimas noticias del coronavirus, en directo |...</td>\n",
       "    </tr>\n",
       "    <tr>\n",
       "      <th>52</th>\n",
       "      <td>A estas alturas anda en un obligado receso de ...</td>\n",
       "      <td>José Luis Perales, alfarería, vino y una admir...</td>\n",
       "    </tr>\n",
       "    <tr>\n",
       "      <th>53</th>\n",
       "      <td>A las 7.30, con el termómetro a dos grados y l...</td>\n",
       "      <td>Un Ejército para exterminar el coronavirus</td>\n",
       "    </tr>\n",
       "    <tr>\n",
       "      <th>54</th>\n",
       "      <td>El presidente de Estados Unidos, Donald Trump,...</td>\n",
       "      <td>Trump despide a otra figura clave en su ‘impea...</td>\n",
       "    </tr>\n",
       "    <tr>\n",
       "      <th>55</th>\n",
       "      <td>Isabel II de Inglaterra acude a la misa en hon...</td>\n",
       "      <td>Isabel II reclama altura histórica a los britá...</td>\n",
       "    </tr>\n",
       "  </tbody>\n",
       "</table>\n",
       "<p>56 rows × 2 columns</p>\n",
       "</div>"
      ],
      "text/plain": [
       "                                                 body  \\\n",
       "0   Maravillas Delgado.Incluso para los más ardien...   \n",
       "1   El miércoles pasado, unos vecinos de Vitoria s...   \n",
       "2   Ai Weiwei es uno de los disidentes chinos que ...   \n",
       "3   América concentra el 40% de la pandemia mundia...   \n",
       "4   De izquierda a derecha, Manuel Barragán, Sara ...   \n",
       "..                                                ...   \n",
       "51  \\nEl número de muertos con coronavirus en Fran...   \n",
       "52  A estas alturas anda en un obligado receso de ...   \n",
       "53  A las 7.30, con el termómetro a dos grados y l...   \n",
       "54  El presidente de Estados Unidos, Donald Trump,...   \n",
       "55  Isabel II de Inglaterra acude a la misa en hon...   \n",
       "\n",
       "                                                title  \n",
       "0         El fracaso épico de la Administración Trump  \n",
       "1                           La línea invisible de ETA  \n",
       "2    Ai Weiwei:  “El capitalismo ha llegado a su fin”  \n",
       "3   Coronavirus en América: últimas noticias del C...  \n",
       "4      Cuando se pierde la vida por curar a los demás  \n",
       "..                                                ...  \n",
       "51  Últimas noticias del coronavirus, en directo |...  \n",
       "52  José Luis Perales, alfarería, vino y una admir...  \n",
       "53         Un Ejército para exterminar el coronavirus  \n",
       "54  Trump despide a otra figura clave en su ‘impea...  \n",
       "55  Isabel II reclama altura histórica a los britá...  \n",
       "\n",
       "[56 rows x 2 columns]"
      ]
     },
     "execution_count": 66,
     "metadata": {},
     "output_type": "execute_result"
    }
   ],
   "source": [
    "el_universal.loc[:,\"body\":\"title\"]"
   ]
  },
  {
   "cell_type": "code",
   "execution_count": null,
   "id": "3dc2b9ce",
   "metadata": {},
   "outputs": [],
   "source": []
  }
 ],
 "metadata": {
  "kernelspec": {
   "display_name": "Python 3 (ipykernel)",
   "language": "python",
   "name": "python3"
  },
  "language_info": {
   "codemirror_mode": {
    "name": "ipython",
    "version": 3
   },
   "file_extension": ".py",
   "mimetype": "text/x-python",
   "name": "python",
   "nbconvert_exporter": "python",
   "pygments_lexer": "ipython3",
   "version": "3.9.12"
  }
 },
 "nbformat": 4,
 "nbformat_minor": 5
}
